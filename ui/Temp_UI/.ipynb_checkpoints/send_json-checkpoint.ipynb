{
 "cells": [
  {
   "cell_type": "code",
   "execution_count": null,
   "id": "ebdea38a-6708-41d9-b953-587835952add",
   "metadata": {},
   "outputs": [],
   "source": []
  },
  {
   "cell_type": "code",
   "execution_count": null,
   "id": "3bd0d131-ac46-4c9f-82f7-be265e1b7fa4",
   "metadata": {},
   "outputs": [],
   "source": []
  },
  {
   "cell_type": "code",
   "execution_count": 8,
   "id": "4a9b7210-83af-4a11-88df-725326698b37",
   "metadata": {},
   "outputs": [
    {
     "name": "stdout",
     "output_type": "stream",
     "text": [
      "✅ All JSON files sent successfully!\n"
     ]
    }
   ],
   "source": [
    "import json\n",
    "import os\n",
    "import requests\n",
    "\n",
    "output_dir = \"robot_jsons\"\n",
    "server_url = \"http://127.0.0.1:5001/receive_data\"\n",
    "\n",
    "json_files = sorted([f for f in os.listdir(output_dir) if f.endswith(\".json\")])\n",
    "\n",
    "# Read all JSON files into a list\n",
    "json_data = []\n",
    "for file in json_files:\n",
    "    file_path = os.path.join(output_dir, file)\n",
    "    \n",
    "    with open(file_path, \"r\") as f:\n",
    "        data = json.load(f)\n",
    "        json_data.append(data)\n",
    "\n",
    "=response = requests.post(server_url, json=json_data)\n",
    "\n",
    "if response.status_code == 200:\n",
    "    print(\"✅ All JSON files sent successfully!\")\n",
    "else:\n",
    "    print(f\"❌ Failed to send data - Status: {response.status_code}\")\n",
    "\n",
    "    \n",
    "    time.sleep(5)\n"
   ]
  },
  {
   "cell_type": "code",
   "execution_count": null,
   "id": "5e100a11-76b3-4eba-bc21-434945271c68",
   "metadata": {},
   "outputs": [],
   "source": []
  },
  {
   "cell_type": "code",
   "execution_count": null,
   "id": "a0054d8b-2b3d-4857-8dbe-980f91f90e33",
   "metadata": {},
   "outputs": [],
   "source": []
  }
 ],
 "metadata": {
  "kernelspec": {
   "display_name": "Python 3 (ipykernel)",
   "language": "python",
   "name": "python3"
  },
  "language_info": {
   "codemirror_mode": {
    "name": "ipython",
    "version": 3
   },
   "file_extension": ".py",
   "mimetype": "text/x-python",
   "name": "python",
   "nbconvert_exporter": "python",
   "pygments_lexer": "ipython3",
   "version": "3.10.12"
  }
 },
 "nbformat": 4,
 "nbformat_minor": 5
}
