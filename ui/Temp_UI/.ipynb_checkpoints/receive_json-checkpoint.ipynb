{
 "cells": [
  {
   "cell_type": "code",
   "execution_count": 5,
   "id": "5e0d3d26-0e8d-4e17-8656-86516a2601ec",
   "metadata": {},
   "outputs": [
    {
     "name": "stdout",
     "output_type": "stream",
     "text": [
      " * Serving Flask app '__main__'\n",
      " * Debug mode: off\n"
     ]
    },
    {
     "name": "stderr",
     "output_type": "stream",
     "text": [
      "\u001b[31m\u001b[1mWARNING: This is a development server. Do not use it in a production deployment. Use a production WSGI server instead.\u001b[0m\n",
      " * Running on all addresses (0.0.0.0)\n",
      " * Running on http://127.0.0.1:5000\n",
      " * Running on http://10.0.0.219:5000\n",
      "\u001b[33mPress CTRL+C to quit\u001b[0m\n",
      "127.0.0.1 - - [18/Feb/2025 00:02:45] \"POST /receive_data HTTP/1.1\" 200 -\n"
     ]
    },
    {
     "name": "stdout",
     "output_type": "stream",
     "text": [
      "\n",
      "🚀 New Data Received 🚀\n",
      "📅 Simulation Time: 5s\n",
      "📍 Current Position: (3.5, 3.5)\n",
      "🎯 Immediate Goal: [4, 4]\n",
      "📊 Plan Progress: 2 / 6\n",
      "\n",
      "✅ Data Sent Successfully!\n"
     ]
    },
    {
     "name": "stderr",
     "output_type": "stream",
     "text": [
      "127.0.0.1 - - [18/Feb/2025 00:04:49] \"POST /receive_data HTTP/1.1\" 200 -\n"
     ]
    },
    {
     "name": "stdout",
     "output_type": "stream",
     "text": [
      "\n",
      "🚀 New Data Received 🚀\n",
      "📅 Simulation Time: 0s\n",
      "📍 Current Position: (0, 0)\n",
      "🎯 Immediate Goal: [0, 0]\n",
      "📊 Plan Progress: 0 / 11\n"
     ]
    },
    {
     "name": "stderr",
     "output_type": "stream",
     "text": [
      "127.0.0.1 - - [18/Feb/2025 00:04:50] \"POST /receive_data HTTP/1.1\" 200 -\n"
     ]
    },
    {
     "name": "stdout",
     "output_type": "stream",
     "text": [
      "\n",
      "🚀 New Data Received 🚀\n",
      "📅 Simulation Time: 10s\n",
      "📍 Current Position: (1, 1)\n",
      "🎯 Immediate Goal: [1, 1]\n",
      "📊 Plan Progress: 1 / 11\n"
     ]
    },
    {
     "name": "stderr",
     "output_type": "stream",
     "text": [
      "127.0.0.1 - - [18/Feb/2025 00:04:51] \"POST /receive_data HTTP/1.1\" 200 -\n"
     ]
    },
    {
     "name": "stdout",
     "output_type": "stream",
     "text": [
      "\n",
      "🚀 New Data Received 🚀\n",
      "📅 Simulation Time: 100s\n",
      "📍 Current Position: (10, 10)\n",
      "🎯 Immediate Goal: [10, 10]\n",
      "📊 Plan Progress: 10 / 11\n"
     ]
    },
    {
     "name": "stderr",
     "output_type": "stream",
     "text": [
      "127.0.0.1 - - [18/Feb/2025 00:04:52] \"POST /receive_data HTTP/1.1\" 200 -\n"
     ]
    },
    {
     "name": "stdout",
     "output_type": "stream",
     "text": [
      "\n",
      "🚀 New Data Received 🚀\n",
      "📅 Simulation Time: 110s\n",
      "📍 Current Position: (0, 0)\n",
      "🎯 Immediate Goal: [0, 0]\n",
      "📊 Plan Progress: 0 / 11\n"
     ]
    },
    {
     "name": "stderr",
     "output_type": "stream",
     "text": [
      "127.0.0.1 - - [18/Feb/2025 00:04:53] \"POST /receive_data HTTP/1.1\" 200 -\n"
     ]
    },
    {
     "name": "stdout",
     "output_type": "stream",
     "text": [
      "\n",
      "🚀 New Data Received 🚀\n",
      "📅 Simulation Time: 120s\n",
      "📍 Current Position: (1, 1)\n",
      "🎯 Immediate Goal: [1, 1]\n",
      "📊 Plan Progress: 1 / 11\n"
     ]
    },
    {
     "name": "stderr",
     "output_type": "stream",
     "text": [
      "127.0.0.1 - - [18/Feb/2025 00:04:54] \"POST /receive_data HTTP/1.1\" 200 -\n"
     ]
    },
    {
     "name": "stdout",
     "output_type": "stream",
     "text": [
      "\n",
      "🚀 New Data Received 🚀\n",
      "📅 Simulation Time: 130s\n",
      "📍 Current Position: (2, 2)\n",
      "🎯 Immediate Goal: [2, 2]\n",
      "📊 Plan Progress: 2 / 11\n"
     ]
    },
    {
     "name": "stderr",
     "output_type": "stream",
     "text": [
      "127.0.0.1 - - [18/Feb/2025 00:04:55] \"POST /receive_data HTTP/1.1\" 200 -\n"
     ]
    },
    {
     "name": "stdout",
     "output_type": "stream",
     "text": [
      "\n",
      "🚀 New Data Received 🚀\n",
      "📅 Simulation Time: 140s\n",
      "📍 Current Position: (3, 3)\n",
      "🎯 Immediate Goal: [3, 3]\n",
      "📊 Plan Progress: 3 / 11\n"
     ]
    },
    {
     "name": "stderr",
     "output_type": "stream",
     "text": [
      "127.0.0.1 - - [18/Feb/2025 00:04:56] \"POST /receive_data HTTP/1.1\" 200 -\n"
     ]
    },
    {
     "name": "stdout",
     "output_type": "stream",
     "text": [
      "\n",
      "🚀 New Data Received 🚀\n",
      "📅 Simulation Time: 150s\n",
      "📍 Current Position: (4, 4)\n",
      "🎯 Immediate Goal: [4, 4]\n",
      "📊 Plan Progress: 4 / 11\n"
     ]
    },
    {
     "name": "stderr",
     "output_type": "stream",
     "text": [
      "127.0.0.1 - - [18/Feb/2025 00:04:57] \"POST /receive_data HTTP/1.1\" 200 -\n"
     ]
    },
    {
     "name": "stdout",
     "output_type": "stream",
     "text": [
      "\n",
      "🚀 New Data Received 🚀\n",
      "📅 Simulation Time: 160s\n",
      "📍 Current Position: (5, 5)\n",
      "🎯 Immediate Goal: [5, 5]\n",
      "📊 Plan Progress: 5 / 11\n"
     ]
    },
    {
     "name": "stderr",
     "output_type": "stream",
     "text": [
      "127.0.0.1 - - [18/Feb/2025 00:04:58] \"POST /receive_data HTTP/1.1\" 200 -\n"
     ]
    },
    {
     "name": "stdout",
     "output_type": "stream",
     "text": [
      "\n",
      "🚀 New Data Received 🚀\n",
      "📅 Simulation Time: 170s\n",
      "📍 Current Position: (6, 6)\n",
      "🎯 Immediate Goal: [6, 6]\n",
      "📊 Plan Progress: 6 / 11\n"
     ]
    },
    {
     "name": "stderr",
     "output_type": "stream",
     "text": [
      "[2025-02-18 00:05:39,480] ERROR in app: Exception on /receive_data [POST]\n",
      "Traceback (most recent call last):\n",
      "  File \"/home/maverick/tmm_mas/lib/python3.10/site-packages/flask/app.py\", line 1511, in wsgi_app\n",
      "    response = self.full_dispatch_request()\n",
      "  File \"/home/maverick/tmm_mas/lib/python3.10/site-packages/flask/app.py\", line 919, in full_dispatch_request\n",
      "    rv = self.handle_user_exception(e)\n",
      "  File \"/home/maverick/tmm_mas/lib/python3.10/site-packages/flask/app.py\", line 917, in full_dispatch_request\n",
      "    rv = self.dispatch_request()\n",
      "  File \"/home/maverick/tmm_mas/lib/python3.10/site-packages/flask/app.py\", line 902, in dispatch_request\n",
      "    return self.ensure_sync(self.view_functions[rule.endpoint])(**view_args)  # type: ignore[no-any-return]\n",
      "  File \"/tmp/ipykernel_27244/680900998.py\", line 17, in receive_data\n",
      "    robot_data = data[\"robots\"][\"robot1\"]\n",
      "TypeError: list indices must be integers or slices, not str\n",
      "127.0.0.1 - - [18/Feb/2025 00:05:39] \"\u001b[35m\u001b[1mPOST /receive_data HTTP/1.1\u001b[0m\" 500 -\n",
      "[2025-02-18 00:05:47,287] ERROR in app: Exception on /receive_data [POST]\n",
      "Traceback (most recent call last):\n",
      "  File \"/home/maverick/tmm_mas/lib/python3.10/site-packages/flask/app.py\", line 1511, in wsgi_app\n",
      "    response = self.full_dispatch_request()\n",
      "  File \"/home/maverick/tmm_mas/lib/python3.10/site-packages/flask/app.py\", line 919, in full_dispatch_request\n",
      "    rv = self.handle_user_exception(e)\n",
      "  File \"/home/maverick/tmm_mas/lib/python3.10/site-packages/flask/app.py\", line 917, in full_dispatch_request\n",
      "    rv = self.dispatch_request()\n",
      "  File \"/home/maverick/tmm_mas/lib/python3.10/site-packages/flask/app.py\", line 902, in dispatch_request\n",
      "    return self.ensure_sync(self.view_functions[rule.endpoint])(**view_args)  # type: ignore[no-any-return]\n",
      "  File \"/tmp/ipykernel_27244/680900998.py\", line 17, in receive_data\n",
      "    robot_data = data[\"robots\"][\"robot1\"]\n",
      "TypeError: list indices must be integers or slices, not str\n",
      "127.0.0.1 - - [18/Feb/2025 00:05:47] \"\u001b[35m\u001b[1mPOST /receive_data HTTP/1.1\u001b[0m\" 500 -\n",
      "[2025-02-18 00:05:48,826] ERROR in app: Exception on /receive_data [POST]\n",
      "Traceback (most recent call last):\n",
      "  File \"/home/maverick/tmm_mas/lib/python3.10/site-packages/flask/app.py\", line 1511, in wsgi_app\n",
      "    response = self.full_dispatch_request()\n",
      "  File \"/home/maverick/tmm_mas/lib/python3.10/site-packages/flask/app.py\", line 919, in full_dispatch_request\n",
      "    rv = self.handle_user_exception(e)\n",
      "  File \"/home/maverick/tmm_mas/lib/python3.10/site-packages/flask/app.py\", line 917, in full_dispatch_request\n",
      "    rv = self.dispatch_request()\n",
      "  File \"/home/maverick/tmm_mas/lib/python3.10/site-packages/flask/app.py\", line 902, in dispatch_request\n",
      "    return self.ensure_sync(self.view_functions[rule.endpoint])(**view_args)  # type: ignore[no-any-return]\n",
      "  File \"/tmp/ipykernel_27244/680900998.py\", line 17, in receive_data\n",
      "    robot_data = data[\"robots\"][\"robot1\"]\n",
      "TypeError: list indices must be integers or slices, not str\n",
      "127.0.0.1 - - [18/Feb/2025 00:05:48] \"\u001b[35m\u001b[1mPOST /receive_data HTTP/1.1\u001b[0m\" 500 -\n"
     ]
    }
   ],
   "source": [
    "# import threading\n",
    "# import time\n",
    "# import json\n",
    "# import requests\n",
    "# from flask import Flask, request, jsonify\n",
    "# import os\n",
    "\n",
    "# # Kill any existing Flask process using port 5000\n",
    "# os.system(\"fuser -k 5000/tcp\")\n",
    "\n",
    "# # === FLASK SERVER ===\n",
    "# app = Flask(__name__)\n",
    "\n",
    "# @app.route(\"/receive_data\", methods=[\"POST\"])\n",
    "# def receive_data():\n",
    "#     data = request.json\n",
    "#     robot_data = data[\"robots\"][\"robot1\"]\n",
    "\n",
    "#     print(\"\\n🚀 New Data Received 🚀\")\n",
    "#     print(f\"📅 Simulation Time: {data['simulator time']}s\")\n",
    "#     print(f\"📍 Current Position: ({robot_data['x']}, {robot_data['y']})\")\n",
    "#     print(f\"🎯 Immediate Goal: {robot_data['immediate goal']}\")\n",
    "#     print(f\"📊 Plan Progress: {robot_data['plan index']} / {len(robot_data['plan'])}\")\n",
    "\n",
    "#     return jsonify({\"message\": \"Data received successfully\"}), 200\n",
    "\n",
    "# # Run Flask in a separate thread\n",
    "# def run_flask():\n",
    "#     app.run(host=\"0.0.0.0\", port=5000, debug=False, use_reloader=False)\n",
    "\n",
    "# flask_thread = threading.Thread(target=run_flask)\n",
    "# flask_thread.start()\n",
    "\n",
    "# # === JSON SENDER ===\n",
    "# time.sleep(2)  # Wait for Flask to start\n",
    "\n",
    "# server_url = \"http://127.0.0.1:5000/receive_data\"\n",
    "\n",
    "# test_data = {\n",
    "#     \"simulator time\": 5,\n",
    "#     \"robots\": {\n",
    "#         \"robot1\": {\n",
    "#             \"plan\": [[0, 0], [2, 2], [4, 4], [6, 6], [8, 8], [10, 10]],  \n",
    "#             \"plan index\": 2,\n",
    "#             \"immediate goal\": [4, 4],\n",
    "#             \"x\": 3.5,\n",
    "#             \"y\": 3.5\n",
    "#         }\n",
    "#     }\n",
    "# }\n",
    "\n",
    "# response = requests.post(server_url, json=test_data)\n",
    "\n",
    "# if response.status_code == 200:\n",
    "#     print(f\"\\n✅ Data Sent Successfully!\")\n",
    "# else:\n",
    "#     print(f\"\\n❌ Failed to send data. Status: {response.status_code}\")\n"
   ]
  },
  {
   "cell_type": "code",
   "execution_count": 6,
   "id": "a2b1e853-776a-42ab-91a3-85d2fd125a9a",
   "metadata": {},
   "outputs": [
    {
     "name": "stdout",
     "output_type": "stream",
     "text": [
      "📤 Sending 30 JSON files...\n",
      "\n",
      "✅ Sent: robot_data_0.json\n",
      "✅ Sent: robot_data_1.json\n",
      "✅ Sent: robot_data_10.json\n",
      "✅ Sent: robot_data_11.json\n",
      "✅ Sent: robot_data_12.json\n",
      "✅ Sent: robot_data_13.json\n",
      "✅ Sent: robot_data_14.json\n",
      "✅ Sent: robot_data_15.json\n",
      "✅ Sent: robot_data_16.json\n",
      "✅ Sent: robot_data_17.json\n"
     ]
    },
    {
     "ename": "KeyboardInterrupt",
     "evalue": "",
     "output_type": "error",
     "traceback": [
      "\u001b[0;31m---------------------------------------------------------------------------\u001b[0m",
      "\u001b[0;31mKeyboardInterrupt\u001b[0m                         Traceback (most recent call last)",
      "Cell \u001b[0;32mIn[6], line 30\u001b[0m\n\u001b[1;32m     27\u001b[0m     \u001b[38;5;28;01melse\u001b[39;00m:\n\u001b[1;32m     28\u001b[0m         \u001b[38;5;28mprint\u001b[39m(\u001b[38;5;124mf\u001b[39m\u001b[38;5;124m\"\u001b[39m\u001b[38;5;124m❌ Failed to send \u001b[39m\u001b[38;5;132;01m{\u001b[39;00mfile\u001b[38;5;132;01m}\u001b[39;00m\u001b[38;5;124m - Status: \u001b[39m\u001b[38;5;132;01m{\u001b[39;00mresponse\u001b[38;5;241m.\u001b[39mstatus_code\u001b[38;5;132;01m}\u001b[39;00m\u001b[38;5;124m\"\u001b[39m)\n\u001b[0;32m---> 30\u001b[0m     \u001b[43mtime\u001b[49m\u001b[38;5;241;43m.\u001b[39;49m\u001b[43msleep\u001b[49m\u001b[43m(\u001b[49m\u001b[38;5;241;43m1\u001b[39;49m\u001b[43m)\u001b[49m  \u001b[38;5;66;03m# Add a short delay between sends (optional)\u001b[39;00m\n\u001b[1;32m     32\u001b[0m \u001b[38;5;28mprint\u001b[39m(\u001b[38;5;124m\"\u001b[39m\u001b[38;5;130;01m\\n\u001b[39;00m\u001b[38;5;124m🎯 All JSON files sent successfully!\u001b[39m\u001b[38;5;124m\"\u001b[39m)\n",
      "\u001b[0;31mKeyboardInterrupt\u001b[0m: "
     ]
    }
   ],
   "source": [
    "# import json\n",
    "# import os\n",
    "# import time\n",
    "# import requests\n",
    "\n",
    "# # Directory containing JSON files\n",
    "# output_dir = \"robot_jsons\"\n",
    "# server_url = \"http://127.0.0.1:5000/receive_data\"\n",
    "\n",
    "# # Get all JSON files\n",
    "# json_files = sorted([f for f in os.listdir(output_dir) if f.endswith(\".json\")])\n",
    "\n",
    "# print(f\"📤 Sending {len(json_files)} JSON files...\\n\")\n",
    "\n",
    "# for file in json_files:\n",
    "#     file_path = os.path.join(output_dir, file)\n",
    "    \n",
    "#     # Read JSON data\n",
    "#     with open(file_path, \"r\") as f:\n",
    "#         data = json.load(f)\n",
    "    \n",
    "#     # Send to server\n",
    "#     response = requests.post(server_url, json=data)\n",
    "\n",
    "#     if response.status_code == 200:\n",
    "#         print(f\"✅ Sent: {file}\")\n",
    "#     else:\n",
    "#         print(f\"❌ Failed to send {file} - Status: {response.status_code}\")\n",
    "    \n",
    "#     time.sleep(1)  # Add a short delay between sends (optional)\n",
    "\n",
    "# print(\"\\n🎯 All JSON files sent successfully!\")\n"
   ]
  },
  {
   "cell_type": "code",
   "execution_count": null,
   "id": "f2dea360-4baf-4345-8612-0e5941cf69fc",
   "metadata": {},
   "outputs": [],
   "source": []
  },
  {
   "cell_type": "code",
   "execution_count": null,
   "id": "9b2d0013-29f1-4ddb-9b7e-303323729977",
   "metadata": {},
   "outputs": [],
   "source": [
    "from flask import Flask, request, jsonify\n",
    "\n",
    "app = Flask(__name__)\n",
    "\n",
    "@app.route(\"/receive_data\", methods=[\"POST\"])\n",
    "def receive_data():\n",
    "    data = request.json  # This will be a list of JSON objects\n",
    "\n",
    "    for idx, robot_data in enumerate(data):\n",
    "        print(f\"\\n🚀 Data Received (Robot {idx + 1}):\")\n",
    "        print(f\"📅 Simulation Time: {robot_data['simulator time']}s\")\n",
    "        print(f\"📍 Current Position: ({robot_data['robots']['robot1']['x']}, {robot_data['robots']['robot1']['y']})\")\n",
    "        print(f\"🎯 Immediate Goal: {robot_data['robots']['robot1']['immediate goal']}\")\n",
    "        print(f\"📊 Plan Progress: {robot_data['robots']['robot1']['plan index']}/{len(robot_data['robots']['robot1']['plan'])}\")\n",
    "\n",
    "    return jsonify({\"message\": \"All data received successfully!\"}), 200\n",
    "\n",
    "if __name__ == \"__main__\":\n",
    "    app.run(host=\"0.0.0.0\", port=5001, debug=False)\n"
   ]
  },
  {
   "cell_type": "code",
   "execution_count": null,
   "id": "8cb81843-36d6-49ee-b811-e92b76d9a0e1",
   "metadata": {},
   "outputs": [],
   "source": []
  }
 ],
 "metadata": {
  "kernelspec": {
   "display_name": "Python 3 (ipykernel)",
   "language": "python",
   "name": "python3"
  },
  "language_info": {
   "codemirror_mode": {
    "name": "ipython",
    "version": 3
   },
   "file_extension": ".py",
   "mimetype": "text/x-python",
   "name": "python",
   "nbconvert_exporter": "python",
   "pygments_lexer": "ipython3",
   "version": "3.10.12"
  }
 },
 "nbformat": 4,
 "nbformat_minor": 5
}
