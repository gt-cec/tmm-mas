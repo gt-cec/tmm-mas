{
 "cells": [
  {
   "cell_type": "code",
   "execution_count": 1,
   "id": "2a198788-6e34-4ddd-a113-e1e5fbf3eac0",
   "metadata": {},
   "outputs": [
    {
     "name": "stdout",
     "output_type": "stream",
     "text": [
      "30 JSON files created in 'robot_jsons' directory.\n"
     ]
    }
   ],
   "source": [
    "import json\n",
    "import os\n",
    "\n",
    "# Directory to store JSON files\n",
    "output_dir = \"robot_jsons\"\n",
    "os.makedirs(output_dir, exist_ok=True)\n",
    "\n",
    "def generate_json_files(num_files=30):\n",
    "    for i in range(num_files):\n",
    "        data = {\n",
    "            \"simulator time\": i * 10,  # Simulated time (every 10s)\n",
    "            \"robots\": {\n",
    "                \"robot1\": {\n",
    "                    \"plan\": [[x, x] for x in range(11)],  # Moves diagonally from (0,0) to (10,10)\n",
    "                    \"plan index\": i % 11,\n",
    "                    \"immediate goal\": [i % 11, i % 11],\n",
    "                    \"x\": i % 11,\n",
    "                    \"y\": i % 11\n",
    "                }\n",
    "            }\n",
    "        }\n",
    "\n",
    "        # Save JSON file\n",
    "        file_path = os.path.join(output_dir, f\"robot_data_{i}.json\")\n",
    "        with open(file_path, \"w\") as f:\n",
    "            json.dump(data, f, indent=4)\n",
    "\n",
    "    print(f\"{num_files} JSON files created in '{output_dir}' directory.\")\n",
    "\n",
    "generate_json_files()\n"
   ]
  }
 ],
 "metadata": {
  "kernelspec": {
   "display_name": "Python 3 (ipykernel)",
   "language": "python",
   "name": "python3"
  },
  "language_info": {
   "codemirror_mode": {
    "name": "ipython",
    "version": 3
   },
   "file_extension": ".py",
   "mimetype": "text/x-python",
   "name": "python",
   "nbconvert_exporter": "python",
   "pygments_lexer": "ipython3",
   "version": "3.10.12"
  }
 },
 "nbformat": 4,
 "nbformat_minor": 5
}
